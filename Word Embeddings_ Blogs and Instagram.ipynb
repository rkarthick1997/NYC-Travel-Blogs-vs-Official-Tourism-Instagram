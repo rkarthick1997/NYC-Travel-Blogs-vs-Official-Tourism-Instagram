{
 "cells": [
  {
   "cell_type": "code",
   "execution_count": null,
   "metadata": {},
   "outputs": [],
   "source": [
    "# https://medium.com/analytics-vidhya/basics-of-using-pre-trained-glove-vectors-in-python-d38905f356db"
   ]
  },
  {
   "cell_type": "code",
   "execution_count": 117,
   "metadata": {},
   "outputs": [],
   "source": [
    "import numpy as np\n",
    "from scipy import spatial\n",
    "import matplotlib.pyplot as plt\n",
    "from sklearn.manifold import TSNE\n",
    "import scipy\n",
    "import pandas as pd\n",
    "\n",
    "from sklearn.manifold import MDS"
   ]
  },
  {
   "cell_type": "code",
   "execution_count": 2,
   "metadata": {},
   "outputs": [],
   "source": [
    "embeddings_dict = {}"
   ]
  },
  {
   "cell_type": "code",
   "execution_count": 29,
   "metadata": {},
   "outputs": [],
   "source": [
    "embeddings_dict = {}\n",
    "with open(\"glove.6B.300d.txt\", 'r',encoding=\"utf-8\") as f:\n",
    "    for line in f:\n",
    "        values = line.split()\n",
    "        word = values[0]\n",
    "        vector = np.asarray(values[1:], \"float32\")\n",
    "        embeddings_dict[word] = vector"
   ]
  },
  {
   "cell_type": "code",
   "execution_count": null,
   "metadata": {},
   "outputs": [],
   "source": []
  },
  {
   "cell_type": "code",
   "execution_count": 17,
   "metadata": {},
   "outputs": [],
   "source": [
    "# finding similar vectors\n",
    "def find_closest_embeddings(embedding):\n",
    "    return sorted(embeddings_dict.keys(), key=lambda word: spatial.distance.euclidean(embeddings_dict[word], embedding))"
   ]
  },
  {
   "cell_type": "code",
   "execution_count": null,
   "metadata": {},
   "outputs": [],
   "source": []
  },
  {
   "cell_type": "code",
   "execution_count": 149,
   "metadata": {},
   "outputs": [
    {
     "data": {
      "text/plain": [
       "['.', 'same', 'time', ',', 'but']"
      ]
     },
     "execution_count": 149,
     "metadata": {},
     "output_type": "execute_result"
    }
   ],
   "source": [
    "find_closest_embeddings(\n",
    "(embeddings_dict['hotel']+embeddings_dict['room']+embeddings_dict['area']+embeddings_dict['time']\n",
    "+embeddings_dict['location']+embeddings_dict['price']+embeddings_dict['day']+embeddings_dict['budget']\n",
    "+embeddings_dict['year']+embeddings_dict['night'])/10 )[:5]\n",
    "\n",
    "\n",
    "# find_closest_embeddings( embeddings_dict['tripadvisor']) "
   ]
  },
  {
   "cell_type": "code",
   "execution_count": null,
   "metadata": {},
   "outputs": [],
   "source": []
  },
  {
   "cell_type": "code",
   "execution_count": 150,
   "metadata": {},
   "outputs": [
    {
     "data": {
      "text/plain": [
       "['where', 'same', '.', '__________________________________', 'prohertrib']"
      ]
     },
     "execution_count": 150,
     "metadata": {},
     "output_type": "execute_result"
    }
   ],
   "source": [
    "find_closest_embeddings(\n",
    "(embeddings_dict['hotel']+embeddings_dict['room']+embeddings_dict['area']+embeddings_dict['time']\n",
    "+embeddings_dict['location'])/5 )[:5]"
   ]
  },
  {
   "cell_type": "code",
   "execution_count": 151,
   "metadata": {},
   "outputs": [],
   "source": [
    "def topic_cosine(list1, list2):\n",
    "    \n",
    "    topic1_embedding = np.array([0.00]*300) \n",
    "    topic2_embedding = np.array([0.00]*300)\n",
    "    \n",
    "    for i in list1:\n",
    "        topic1_embedding += embeddings_dict[i.lower()]\n",
    "        \n",
    "    topic1_embedding = topic1_embedding/len(list1)\n",
    "        \n",
    "    for i in list2:\n",
    "        topic2_embedding += embeddings_dict[i.lower()]\n",
    "    \n",
    "    topic2_embedding = topic2_embedding/len(list2)\n",
    "    \n",
    "    return (1 - spatial.distance.cosine(topic1_embedding, topic2_embedding))\n",
    "    "
   ]
  },
  {
   "cell_type": "code",
   "execution_count": null,
   "metadata": {},
   "outputs": [],
   "source": []
  },
  {
   "cell_type": "code",
   "execution_count": 152,
   "metadata": {},
   "outputs": [],
   "source": [
    "insta_topic = {\n",
    "    'skyline':['skyscraper','block','cloud','daytime','world'],\n",
    "    'landscape':['nature','flower','natural','landscape','leisure'],\n",
    "    'events':['rectangle','electric','tickets','brand','circle'],\n",
    "    'traffic':['vehicle','automotive','infrastructure','lighting','wheel'],\n",
    "    'people':['gesture','happy','event','yorkers'],\n",
    "    'city_scapes':['bridge','facade','light','lighting','window']  }"
   ]
  },
  {
   "cell_type": "code",
   "execution_count": 164,
   "metadata": {},
   "outputs": [],
   "source": [
    "blog_topic = {\n",
    "    'Quarantine': ['Quarantine', 'travel', 'vaccine', 'rule', 'may', '2021', 'mask'],\n",
    "    'Accommodation': ['restaurant', 'food', 'hotel', 'great', 'bar','room'],\n",
    "    'train': ['subway', 'train', 'people', 'station', 'time'],\n",
    "    'Leisure': ['park', 'walk', 'central', 'time', 'street', 'brooklyn', 'jazz'],\n",
    "    'Crime': ['crime', 'people', 'homeless', 'like'],\n",
    "    'air_travel': ['hotel', 'car', 'flight', 'airport', 'jfk','parking']  }"
   ]
  },
  {
   "cell_type": "code",
   "execution_count": 165,
   "metadata": {},
   "outputs": [],
   "source": [
    "df = pd.DataFrame(columns = insta_topic.keys(), index = blog_topic.keys() ).fillna(0.00)\n",
    "\n",
    "for i in df.index:\n",
    "    for j in df.columns.values:\n",
    "        df.loc[i,j] = topic_cosine(blog_topic[i], insta_topic[j])"
   ]
  },
  {
   "cell_type": "code",
   "execution_count": 166,
   "metadata": {},
   "outputs": [
    {
     "data": {
      "text/html": [
       "<div>\n",
       "<style scoped>\n",
       "    .dataframe tbody tr th:only-of-type {\n",
       "        vertical-align: middle;\n",
       "    }\n",
       "\n",
       "    .dataframe tbody tr th {\n",
       "        vertical-align: top;\n",
       "    }\n",
       "\n",
       "    .dataframe thead th {\n",
       "        text-align: right;\n",
       "    }\n",
       "</style>\n",
       "<table border=\"1\" class=\"dataframe\">\n",
       "  <thead>\n",
       "    <tr style=\"text-align: right;\">\n",
       "      <th></th>\n",
       "      <th>skyline</th>\n",
       "      <th>landscape</th>\n",
       "      <th>events</th>\n",
       "      <th>traffic</th>\n",
       "      <th>people</th>\n",
       "      <th>city_scapes</th>\n",
       "    </tr>\n",
       "  </thead>\n",
       "  <tbody>\n",
       "    <tr>\n",
       "      <th>Quarantine</th>\n",
       "      <td>0.318222</td>\n",
       "      <td>0.297941</td>\n",
       "      <td>0.309909</td>\n",
       "      <td>0.248469</td>\n",
       "      <td>0.269528</td>\n",
       "      <td>0.221211</td>\n",
       "    </tr>\n",
       "    <tr>\n",
       "      <th>Accommodation</th>\n",
       "      <td>0.400450</td>\n",
       "      <td>0.348191</td>\n",
       "      <td>0.439868</td>\n",
       "      <td>0.333048</td>\n",
       "      <td>0.359699</td>\n",
       "      <td>0.452201</td>\n",
       "    </tr>\n",
       "    <tr>\n",
       "      <th>train</th>\n",
       "      <td>0.461352</td>\n",
       "      <td>0.258759</td>\n",
       "      <td>0.411337</td>\n",
       "      <td>0.379573</td>\n",
       "      <td>0.396066</td>\n",
       "      <td>0.439456</td>\n",
       "    </tr>\n",
       "    <tr>\n",
       "      <th>Leisure</th>\n",
       "      <td>0.480544</td>\n",
       "      <td>0.409170</td>\n",
       "      <td>0.434882</td>\n",
       "      <td>0.269236</td>\n",
       "      <td>0.420626</td>\n",
       "      <td>0.486892</td>\n",
       "    </tr>\n",
       "    <tr>\n",
       "      <th>Crime</th>\n",
       "      <td>0.421768</td>\n",
       "      <td>0.322014</td>\n",
       "      <td>0.250135</td>\n",
       "      <td>0.239437</td>\n",
       "      <td>0.498479</td>\n",
       "      <td>0.251760</td>\n",
       "    </tr>\n",
       "    <tr>\n",
       "      <th>air_travel</th>\n",
       "      <td>0.418665</td>\n",
       "      <td>0.173377</td>\n",
       "      <td>0.403170</td>\n",
       "      <td>0.436186</td>\n",
       "      <td>0.262286</td>\n",
       "      <td>0.422816</td>\n",
       "    </tr>\n",
       "  </tbody>\n",
       "</table>\n",
       "</div>"
      ],
      "text/plain": [
       "                skyline  landscape    events   traffic    people  city_scapes\n",
       "Quarantine     0.318222   0.297941  0.309909  0.248469  0.269528     0.221211\n",
       "Accommodation  0.400450   0.348191  0.439868  0.333048  0.359699     0.452201\n",
       "train          0.461352   0.258759  0.411337  0.379573  0.396066     0.439456\n",
       "Leisure        0.480544   0.409170  0.434882  0.269236  0.420626     0.486892\n",
       "Crime          0.421768   0.322014  0.250135  0.239437  0.498479     0.251760\n",
       "air_travel     0.418665   0.173377  0.403170  0.436186  0.262286     0.422816"
      ]
     },
     "execution_count": 166,
     "metadata": {},
     "output_type": "execute_result"
    }
   ],
   "source": [
    "df"
   ]
  },
  {
   "cell_type": "code",
   "execution_count": 167,
   "metadata": {},
   "outputs": [
    {
     "data": {
      "text/plain": [
       "<AxesSubplot:>"
      ]
     },
     "execution_count": 167,
     "metadata": {},
     "output_type": "execute_result"
    },
    {
     "data": {
      "image/png": "[encoded data removed]",
      "text/plain": [
       "<Figure size 432x288 with 2 Axes>"
      ]
     },
     "metadata": {
      "needs_background": "light"
     },
     "output_type": "display_data"
    }
   ],
   "source": [
    "import seaborn as sns\n",
    "\n",
    "sns.heatmap(df,annot=True)"
   ]
  },
  {
   "cell_type": "code",
   "execution_count": null,
   "metadata": {},
   "outputs": [],
   "source": []
  },
  {
   "cell_type": "code",
   "execution_count": null,
   "metadata": {},
   "outputs": [],
   "source": []
  },
  {
   "cell_type": "code",
   "execution_count": 168,
   "metadata": {},
   "outputs": [
    {
     "data": {
      "text/plain": [
       "Quarantine       0.318222\n",
       "Accommodation    0.452201\n",
       "train            0.461352\n",
       "Leisure          0.486892\n",
       "Crime            0.498479\n",
       "air_travel       0.436186\n",
       "dtype: float64"
      ]
     },
     "execution_count": 168,
     "metadata": {},
     "output_type": "execute_result"
    }
   ],
   "source": [
    "df.max(axis=1)"
   ]
  },
  {
   "cell_type": "code",
   "execution_count": null,
   "metadata": {},
   "outputs": [],
   "source": []
  },
  {
   "cell_type": "code",
   "execution_count": 169,
   "metadata": {},
   "outputs": [],
   "source": [
    "df2 = pd.DataFrame(index = blog_topic.keys() ).fillna(0.00)\n",
    "\n"
   ]
  },
  {
   "cell_type": "code",
   "execution_count": 170,
   "metadata": {
    "scrolled": true
   },
   "outputs": [
    {
     "data": {
      "text/html": [
       "<div>\n",
       "<style scoped>\n",
       "    .dataframe tbody tr th:only-of-type {\n",
       "        vertical-align: middle;\n",
       "    }\n",
       "\n",
       "    .dataframe tbody tr th {\n",
       "        vertical-align: top;\n",
       "    }\n",
       "\n",
       "    .dataframe thead th {\n",
       "        text-align: right;\n",
       "    }\n",
       "</style>\n",
       "<table border=\"1\" class=\"dataframe\">\n",
       "  <thead>\n",
       "    <tr style=\"text-align: right;\">\n",
       "      <th></th>\n",
       "      <th>skyline</th>\n",
       "      <th>landscape</th>\n",
       "      <th>events</th>\n",
       "      <th>traffic</th>\n",
       "      <th>people</th>\n",
       "      <th>city_scapes</th>\n",
       "    </tr>\n",
       "  </thead>\n",
       "  <tbody>\n",
       "    <tr>\n",
       "      <th>blog</th>\n",
       "      <td>0.56145</td>\n",
       "      <td>0.40402</td>\n",
       "      <td>0.514427</td>\n",
       "      <td>0.433124</td>\n",
       "      <td>0.485627</td>\n",
       "      <td>0.524011</td>\n",
       "    </tr>\n",
       "  </tbody>\n",
       "</table>\n",
       "</div>"
      ],
      "text/plain": [
       "      skyline  landscape    events   traffic    people  city_scapes\n",
       "blog  0.56145    0.40402  0.514427  0.433124  0.485627     0.524011"
      ]
     },
     "execution_count": 170,
     "metadata": {},
     "output_type": "execute_result"
    }
   ],
   "source": [
    "list = []\n",
    "for i in blog_topic.keys():\n",
    "    list += blog_topic[i]\n",
    "    \n",
    "df2 = pd.DataFrame(index = ['blog'], columns = insta_topic.keys()).fillna(0.00)\n",
    "\n",
    "for i in df2.columns.values:\n",
    "    df2[i] = topic_cosine(list, insta_topic[i])\n",
    "    \n",
    "df2"
   ]
  },
  {
   "cell_type": "code",
   "execution_count": null,
   "metadata": {},
   "outputs": [],
   "source": []
  },
  {
   "cell_type": "code",
   "execution_count": 171,
   "metadata": {},
   "outputs": [
    {
     "ename": "KeyError",
     "evalue": "'skyline'",
     "output_type": "error",
     "traceback": [
      "\u001b[1;31m---------------------------------------------------------------------------\u001b[0m",
      "\u001b[1;31mKeyError\u001b[0m                                  Traceback (most recent call last)",
      "\u001b[1;32m<ipython-input-171-41bc507b0d7a>\u001b[0m in \u001b[0;36m<module>\u001b[1;34m\u001b[0m\n\u001b[0;32m      7\u001b[0m \u001b[1;33m\u001b[0m\u001b[0m\n\u001b[0;32m      8\u001b[0m \u001b[1;32mfor\u001b[0m \u001b[0mi\u001b[0m \u001b[1;32min\u001b[0m \u001b[0mdf2\u001b[0m\u001b[1;33m.\u001b[0m\u001b[0mcolumns\u001b[0m\u001b[1;33m.\u001b[0m\u001b[0mvalues\u001b[0m\u001b[1;33m:\u001b[0m\u001b[1;33m\u001b[0m\u001b[1;33m\u001b[0m\u001b[0m\n\u001b[1;32m----> 9\u001b[1;33m     \u001b[0mdf3\u001b[0m\u001b[1;33m[\u001b[0m\u001b[0mi\u001b[0m\u001b[1;33m]\u001b[0m \u001b[1;33m=\u001b[0m \u001b[0mtopic_cosine\u001b[0m\u001b[1;33m(\u001b[0m\u001b[0mlist\u001b[0m\u001b[1;33m,\u001b[0m \u001b[0mblog_topic\u001b[0m\u001b[1;33m[\u001b[0m\u001b[0mi\u001b[0m\u001b[1;33m]\u001b[0m\u001b[1;33m)\u001b[0m\u001b[1;33m\u001b[0m\u001b[1;33m\u001b[0m\u001b[0m\n\u001b[0m\u001b[0;32m     10\u001b[0m \u001b[1;33m\u001b[0m\u001b[0m\n\u001b[0;32m     11\u001b[0m \u001b[0mdf3\u001b[0m\u001b[1;33m\u001b[0m\u001b[1;33m\u001b[0m\u001b[0m\n",
      "\u001b[1;31mKeyError\u001b[0m: 'skyline'"
     ]
    }
   ],
   "source": [
    "list = []\n",
    "\n",
    "for i in insta_topic.keys():\n",
    "    list += insta_topic[i]\n",
    "    \n",
    "df3 = pd.DataFrame(index = ['insta'], columns = blog_topic.keys()).fillna(0.00)\n",
    "\n",
    "for i in df2.columns.values:\n",
    "    df3[i] = topic_cosine(list, blog_topic[i])\n",
    "    \n",
    "df3"
   ]
  },
  {
   "cell_type": "code",
   "execution_count": null,
   "metadata": {},
   "outputs": [],
   "source": []
  },
  {
   "cell_type": "code",
   "execution_count": null,
   "metadata": {},
   "outputs": [],
   "source": []
  },
  {
   "cell_type": "code",
   "execution_count": null,
   "metadata": {},
   "outputs": [],
   "source": []
  }
 ],
 "metadata": {
  "kernelspec": {
   "display_name": "Python 3",
   "language": "python",
   "name": "python3"
  },
  "language_info": {
   "codemirror_mode": {
    "name": "ipython",
    "version": 3
   },
   "file_extension": ".py",
   "mimetype": "text/x-python",
   "name": "python",
   "nbconvert_exporter": "python",
   "pygments_lexer": "ipython3",
   "version": "3.8.5"
  }
 },
 "nbformat": 4,
 "nbformat_minor": 4
}
